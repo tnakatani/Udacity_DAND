{
 "cells": [
  {
   "cell_type": "markdown",
   "metadata": {},
   "source": [
    "### Central Limit Theorem - Part II\n",
    "\n",
    "Work through the questions and use the created variables to answer the questions that follow below the notebook.\n",
    "\n",
    "Run the below cell to get started.\n"
   ]
  },
  {
   "cell_type": "code",
   "execution_count": 1,
   "metadata": {},
   "outputs": [
    {
     "data": {
      "image/png": "[encoded data removed]",
      "text/plain": [
       "<Figure size 432x288 with 1 Axes>"
      ]
     },
     "metadata": {},
     "output_type": "display_data"
    }
   ],
   "source": [
    "import numpy as np\n",
    "import matplotlib.pyplot as plt\n",
    "\n",
    "%matplotlib inline\n",
    "np.random.seed(42)\n",
    "\n",
    "pop_data = np.random.gamma(1,100,3000)\n",
    "plt.hist(pop_data);"
   ]
  },
  {
   "cell_type": "markdown",
   "metadata": {
    "collapsed": true
   },
   "source": [
    "`1.` In order to create the sampling distribution for the average of 100 draws of this distribution, follow these steps:\n",
    "\n",
    "`a.` Use numpy's **random.choice** to simulate 100 draws from the `pop_data` array.   <br><br>\n",
    "`b.` Compute the mean of these 100 draws. <br><br>\n",
    "`c.` Write a loop to simulate this process 10,000 times, and store each mean into an array called **means_size_100**.<br><br>\n",
    "`d.` Plot a histogram of your sample means.<br><br>\n",
    "`e.` Use **means_size_100** and **pop_data** to answer the quiz questions below."
   ]
  },
  {
   "cell_type": "code",
   "execution_count": 2,
   "metadata": {},
   "outputs": [
    {
     "data": {
      "text/plain": [
       "array([   1.99073813,    2.56776095,  100.03907725,   26.44660917,\n",
       "          7.38496269,  150.12425405,  227.09741251,    3.16290491,\n",
       "        428.38655756,   87.55537772,  265.49500859,  119.16779497,\n",
       "         59.13481289,  158.08374881,  356.77981383,  431.47510845,\n",
       "        270.19418338,   47.23477616,   44.66526676,   15.95263842,\n",
       "        106.31988723,  386.82424166,   27.20486222,   62.10553019,\n",
       "         20.43885995,   56.55370668,  184.40771413,  193.58337438,\n",
       "         51.77500786,    4.79849924,   81.73604076,   60.92408858,\n",
       "         17.52584347,  141.98034755,   77.95934969,  124.54172889,\n",
       "        100.28059836,  223.04811056,  197.13449719,   27.53487243,\n",
       "        155.39900137,  339.37467824,  343.76550028,   87.27494299,\n",
       "         89.43587636,    0.78724977,   49.13006922,  234.5061523 ,\n",
       "        275.83812054,   99.77924597,    8.27506873,   50.85998157,\n",
       "          8.78917262,    5.33549735,  130.62768386,  166.3647723 ,\n",
       "        439.40638915,    3.04319809,   62.10553019,  169.8663034 ,\n",
       "         57.42105041,   46.72104006,    5.92817064,   40.72336041,\n",
       "        151.75954932,  324.7673666 ,  128.10430976,  172.3933906 ,\n",
       "          4.28565873,  108.91623873,  114.29336926,   59.27636022,\n",
       "         18.26653224,  329.17249724,   15.02345287,   67.22721095,\n",
       "        183.13465118,  104.87738143,   20.64917455,   27.90293443,\n",
       "         70.57584889,   29.92430907,   99.30575735,   90.98443102,\n",
       "         59.24977234,   70.37074898,   64.23811416,   70.41173695,\n",
       "        121.96983475,   44.40684119,  120.7879966 ,  212.75463181,\n",
       "        146.66583262,  125.20674729,    0.55374204,   99.26282904,\n",
       "         96.83989671,   26.4242531 ,  377.98631126,   11.41674352])"
      ]
     },
     "execution_count": 2,
     "metadata": {},
     "output_type": "execute_result"
    }
   ],
   "source": [
    "np.random.choice(pop_data,100)"
   ]
  },
  {
   "cell_type": "code",
   "execution_count": 15,
   "metadata": {},
   "outputs": [],
   "source": [
    "means_size_100 = []\n",
    "for i in range(10000):\n",
    "    sample = np.random.choice(pop_data,100).mean()\n",
    "    means_size_100.append(sample)"
   ]
  },
  {
   "cell_type": "code",
   "execution_count": 16,
   "metadata": {},
   "outputs": [
    {
     "data": {
      "image/png": "[encoded data removed]",
      "text/plain": [
       "<Figure size 432x288 with 1 Axes>"
      ]
     },
     "metadata": {},
     "output_type": "display_data"
    }
   ],
   "source": [
    "plt.hist(means_size_100);"
   ]
  },
  {
   "cell_type": "code",
   "execution_count": 17,
   "metadata": {},
   "outputs": [
    {
     "data": {
      "text/plain": [
       "100.36709290586464"
      ]
     },
     "execution_count": 17,
     "metadata": {},
     "output_type": "execute_result"
    }
   ],
   "source": [
    "np.mean(means_size_100)"
   ]
  },
  {
   "cell_type": "code",
   "execution_count": 21,
   "metadata": {},
   "outputs": [
    {
     "data": {
      "text/plain": [
       "100.35978700795846"
      ]
     },
     "execution_count": 21,
     "metadata": {},
     "output_type": "execute_result"
    }
   ],
   "source": [
    "np.mean(pop_data)"
   ]
  },
  {
   "cell_type": "code",
   "execution_count": 22,
   "metadata": {},
   "outputs": [
    {
     "data": {
      "text/plain": [
       "96.930249278119106"
      ]
     },
     "execution_count": 22,
     "metadata": {},
     "output_type": "execute_result"
    }
   ],
   "source": [
    "np.var(means_size_100)"
   ]
  },
  {
   "cell_type": "code",
   "execution_count": 23,
   "metadata": {},
   "outputs": [
    {
     "data": {
      "text/plain": [
       "9955.7693930654896"
      ]
     },
     "execution_count": 23,
     "metadata": {},
     "output_type": "execute_result"
    }
   ],
   "source": [
    "np.var(pop_data)"
   ]
  },
  {
   "cell_type": "code",
   "execution_count": null,
   "metadata": {},
   "outputs": [],
   "source": []
  }
 ],
 "metadata": {
  "kernelspec": {
   "display_name": "Python [default]",
   "language": "python",
   "name": "python3"
  },
  "language_info": {
   "codemirror_mode": {
    "name": "ipython",
    "version": 3
   },
   "file_extension": ".py",
   "mimetype": "text/x-python",
   "name": "python",
   "nbconvert_exporter": "python",
   "pygments_lexer": "ipython3",
   "version": "3.6.5"
  }
 },
 "nbformat": 4,
 "nbformat_minor": 2
}
